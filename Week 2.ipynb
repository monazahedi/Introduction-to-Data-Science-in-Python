{
 "cells": [
  {
   "cell_type": "code",
   "execution_count": 1,
   "metadata": {},
   "outputs": [
    {
     "data": {
      "text/plain": [
       "{'less than high school': 0.10202002459160373,\n",
       " 'high school': 0.172352011241876,\n",
       " 'more than high school but not college': 0.24588090637625154,\n",
       " 'college': 0.47974705779026877}"
      ]
     },
     "execution_count": 1,
     "metadata": {},
     "output_type": "execute_result"
    }
   ],
   "source": [
    "# Question 1\n",
    "\n",
    "def proportion_of_education():\n",
    "    import pandas as pd\n",
    "    df=pd.read_csv(\"NISPUF17.csv\")\n",
    "    dict ={\"less than high school\":len(df[df['EDUC1'] == 1])/len(df),\n",
    "           \"high school\":len(df[df['EDUC1'] == 2])/len(df),\n",
    "           \"more than high school but not college\":len(df[df['EDUC1'] == 3])/len(df),\n",
    "           \"college\":len(df[df['EDUC1'] == 4])/len(df)}\n",
    "    return dict\n",
    "\n",
    "proportion_of_education()"
   ]
  },
  {
   "cell_type": "code",
   "execution_count": 5,
   "metadata": {},
   "outputs": [
    {
     "data": {
      "text/plain": [
       "(1.8799187420058687, 1.5963945918878317)"
      ]
     },
     "execution_count": 5,
     "metadata": {},
     "output_type": "execute_result"
    }
   ],
   "source": [
    "# Question 2\n",
    "\n",
    "def average_influenza_doses():\n",
    "    import pandas as pd\n",
    "    df=pd.read_csv(\"NISPUF17.csv\")\n",
    "    df = df[['CBF_01', 'P_NUMFLU']].dropna()\n",
    "    vacc_avg = df[df['CBF_01']==1]['P_NUMFLU'].mean()\n",
    "    nvacc_avg = df[df['CBF_01']==2]['P_NUMFLU'].mean()\n",
    "    return (vacc_avg,nvacc_avg)\n",
    "\n",
    "average_influenza_doses()"
   ]
  },
  {
   "cell_type": "code",
   "execution_count": 6,
   "metadata": {},
   "outputs": [
    {
     "data": {
      "text/plain": [
       "{'male': 0.009675583380762664, 'female': 0.0077918259335489565}"
      ]
     },
     "execution_count": 6,
     "metadata": {},
     "output_type": "execute_result"
    }
   ],
   "source": [
    "# Question 3\n",
    "\n",
    "def chickenpox_by_sex():\n",
    "    import pandas as pd\n",
    "    df=pd.read_csv(\"NISPUF17.csv\")\n",
    "    df= df[['HAD_CPOX', 'P_NUMVRC', 'SEX']].dropna()\n",
    "    pox_vacc_m = len(df[(df['P_NUMVRC' ]> 0) & (df['HAD_CPOX'] == 1) & (df['SEX'] == 1)])\n",
    "    npox_vacc_m = len(df[(df['P_NUMVRC' ]> 0) & (df['HAD_CPOX'] == 2) & (df['SEX'] == 1)])\n",
    "    pox_vacc_f = len(df[(df['P_NUMVRC' ]> 0) & (df['HAD_CPOX'] == 1) & (df['SEX'] == 2)])\n",
    "    npox_vacc_f = len(df[(df['P_NUMVRC' ]> 0) & (df['HAD_CPOX'] == 2) & (df['SEX'] == 2)])\n",
    "    dict = {\"male\": pox_vacc_m/npox_vacc_m, \"female\": pox_vacc_f/npox_vacc_f}\n",
    "    return dict\n",
    "\n",
    "chickenpox_by_sex()"
   ]
  },
  {
   "cell_type": "code",
   "execution_count": 8,
   "metadata": {},
   "outputs": [
    {
     "data": {
      "text/plain": [
       "0.07044873460148"
      ]
     },
     "execution_count": 8,
     "metadata": {},
     "output_type": "execute_result"
    }
   ],
   "source": [
    "# Question 4\n",
    "\n",
    "def corr_chickenpox():\n",
    "    import pandas as pd\n",
    "    import scipy.stats as stats\n",
    "    import numpy as np\n",
    "    df = pd.read_csv(\"NISPUF17.csv\")\n",
    "    df = df[(df['HAD_CPOX']==1) | (df['HAD_CPOX']==2)]\n",
    "    df = df[['HAD_CPOX', 'P_NUMVRC']].dropna()\n",
    "    corr, pval=stats.pearsonr(df[\"HAD_CPOX\"],df[\"P_NUMVRC\"])\n",
    "    return corr\n",
    "\n",
    "corr_chickenpox()"
   ]
  },
  {
   "cell_type": "code",
   "execution_count": null,
   "metadata": {},
   "outputs": [],
   "source": []
  }
 ],
 "metadata": {
  "kernelspec": {
   "display_name": "Python 3",
   "language": "python",
   "name": "python3"
  },
  "language_info": {
   "codemirror_mode": {
    "name": "ipython",
    "version": 3
   },
   "file_extension": ".py",
   "mimetype": "text/x-python",
   "name": "python",
   "nbconvert_exporter": "python",
   "pygments_lexer": "ipython3",
   "version": "3.7.6"
  }
 },
 "nbformat": 4,
 "nbformat_minor": 4
}
