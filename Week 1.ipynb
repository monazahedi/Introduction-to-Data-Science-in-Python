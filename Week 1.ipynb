{
 "cells": [
  {
   "cell_type": "code",
   "execution_count": 15,
   "metadata": {},
   "outputs": [],
   "source": [
    "# PART A\n",
    "\n",
    "import re\n",
    "def names():\n",
    "    simple_string = \"\"\"Amy is 5 years old, and her sister Mary is 2 years old. \n",
    "    Ruth and Peter, their parents, have 3 kids.\"\"\"\n",
    "\n",
    "    result = re.findall(\"[A-Z]\\w*\",simple_string)\n",
    "    return result"
   ]
  },
  {
   "cell_type": "code",
   "execution_count": 14,
   "metadata": {},
   "outputs": [],
   "source": [
    "assert len(names()) == 4, \"There are four names in the simple_string\""
   ]
  },
  {
   "cell_type": "code",
   "execution_count": null,
   "metadata": {},
   "outputs": [],
   "source": [
    "# PART B\n",
    "\n",
    "import re\n",
    "def grades():\n",
    "    with open (\"grades.txt\", \"r\") as file:\n",
    "        grades = file.read()\n",
    "        \n",
    "    students =[]   \n",
    "    for item in re.finditer(\"([\\w]+\\s[\\w]+)(\\:\\sB)\", grades):\n",
    "        students.append(item.group(1))\n",
    "        \n",
    "    return students\n",
    "    \n",
    "grades()"
   ]
  },
  {
   "cell_type": "code",
   "execution_count": 33,
   "metadata": {},
   "outputs": [],
   "source": [
    "assert len(grades()) == 16"
   ]
  },
  {
   "cell_type": "code",
   "execution_count": 119,
   "metadata": {},
   "outputs": [
    {
     "data": {
      "text/plain": [
       "979"
      ]
     },
     "execution_count": 119,
     "metadata": {},
     "output_type": "execute_result"
    }
   ],
   "source": [
    "#PART C\n",
    "\n",
    "import re\n",
    "def logs():\n",
    "    with open(\"logdata.txt\", \"r\") as file:\n",
    "        logdata = file.read()\n",
    "    \n",
    "    pattern=\"\"\"\n",
    "    (?P<host>\\d*.\\d*.\\d*.\\d*)\n",
    "    (\\s\\-\\s)\n",
    "    (?P<user_name>\\w*\\d*-*)\n",
    "    (\\s\\[)\n",
    "    (?P<time>\\d*\\/\\w*\\/\\d*\\:\\d*\\:\\d*\\:\\d*\\s\\-\\d*)\n",
    "    (\\]\\s\\\")\n",
    "    (?P<request>.*[\\sHTTP\\/\\d\\.\\d])\n",
    "    (\\\")\"\"\"\n",
    "    \n",
    "    data= []\n",
    "    for item in re.finditer(pattern,logdata,re.VERBOSE):\n",
    "        data.append(item.groupdict())\n",
    "    \n",
    "    return data\n",
    "\n",
    "logs()\n",
    "len(logs())"
   ]
  },
  {
   "cell_type": "code",
   "execution_count": null,
   "metadata": {},
   "outputs": [],
   "source": [
    "assert len(logs()) == 979\n",
    "\n",
    "one_item={'host': '146.204.224.152',\n",
    "  'user_name': 'feest6811',\n",
    "  'time': '21/Jun/2019:15:45:24 -0700',\n",
    "  'request': 'POST /incentivize HTTP/1.1'}\n",
    "assert one_item in logs(), \"Sorry, this item should be in the log results, check your formating\""
   ]
  }
 ],
 "metadata": {
  "kernelspec": {
   "display_name": "Python 3",
   "language": "python",
   "name": "python3"
  },
  "language_info": {
   "codemirror_mode": {
    "name": "ipython",
    "version": 3
   },
   "file_extension": ".py",
   "mimetype": "text/x-python",
   "name": "python",
   "nbconvert_exporter": "python",
   "pygments_lexer": "ipython3",
   "version": "3.7.6"
  }
 },
 "nbformat": 4,
 "nbformat_minor": 4
}
